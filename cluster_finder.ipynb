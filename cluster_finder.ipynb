{
 "cells": [
  {
   "cell_type": "code",
   "execution_count": 1,
   "metadata": {},
   "outputs": [],
   "source": [
    "from astropy.io import fits\n",
    "from astropy.table import vstack\n",
    "import numpy as np\n",
    "import matplotlib.pyplot as plt\n",
    "import pandas as pd\n",
    "from astropy.coordinates import SkyCoord\n",
    "import astropy.units as u\n",
    "import seaborn as sns\n",
    "import scipy.stats\n",
    "import seaborn as sns\n",
    "from numpy.random import normal\n",
    "import seaborn as sns\n",
    "import numpy\n",
    "import numexpr"
   ]
  },
  {
   "cell_type": "code",
   "execution_count": 72,
   "metadata": {},
   "outputs": [
    {
     "name": "stdout",
     "output_type": "stream",
     "text": [
      "0              b'Styx'\n",
      "1              b'Styx'\n",
      "2              b'Styx'\n",
      "3              b'Styx'\n",
      "4              b'Styx'\n",
      "             ...      \n",
      "84102        b'Orphan'\n",
      "84103    b'Phlegethon'\n",
      "84104    b'Phlegethon'\n",
      "84105    b'Phlegethon'\n",
      "84106    b'Phlegethon'\n",
      "Name: object_name, Length: 84107, dtype: object\n"
     ]
    }
   ],
   "source": [
    "#import s5 data\n",
    "s5 = fits.open('s5cat_dr3_2.fits')\n",
    "data = np.array(s5[1].data)\n",
    "df = pd.DataFrame(data).reset_index(drop=True)\n",
    "print(df['object_name'])"
   ]
  },
  {
   "cell_type": "code",
   "execution_count": 62,
   "metadata": {},
   "outputs": [
    {
     "name": "stdout",
     "output_type": "stream",
     "text": [
      "[        nan  6.0240e+00 -7.2081e+01  4.5200e+00  3.0000e-02 -1.7450e+01\n",
      "  1.6000e-01  1.2200e+01  4.0000e+01  5.2590e+00 -2.5430e+00  2.3200e-01\n",
      "  2.5000e-02  2.5000e-02 -0.0000e+00  9.0000e-03]\n"
     ]
    }
   ],
   "source": [
    "#import gaia cluster data \n",
    "clusters = np.genfromtxt('GaiaTools-master/result.txt', delimiter='\\t', skip_header=1, dtype=float)\n",
    "print(clusters[0])\n"
   ]
  },
  {
   "cell_type": "code",
   "execution_count": 48,
   "metadata": {},
   "outputs": [],
   "source": [
    "#coordinate transformation algorithms\n",
    "from numpy import sin,cos,deg2rad,rad2deg,arctan2,sqrt\n",
    "\n",
    "def cv_coord(a,b,c,fr=None,to=None,degr=False):\n",
    "\tif degr:\n",
    "\t\tdegrad = deg2rad\n",
    "\t\traddeg = rad2deg\n",
    "\telse:\n",
    "\t\tdegrad = lambda x: x\n",
    "\t\traddeg = lambda x: x\n",
    "\tif fr=='sph':\n",
    "\t\tx=c*cos(degrad(a))*cos(degrad(b))\n",
    "\t\ty=c*sin(degrad(a))*cos(degrad(b))\n",
    "\t\tz=c*sin(degrad(b))\n",
    "\telif fr=='rect':\n",
    "\t\tx=a\n",
    "\t\ty=b\n",
    "\t\tz=c\n",
    "\telif fr is None:\n",
    "\t\traise Exception('You must specify the input coordinate system')\n",
    "\telse:\n",
    "\t\traise Exception('Unknown input coordinate system')\n",
    "\tif to=='rect':\n",
    "\t\treturn (x,y,z)\n",
    "\telif to=='sph':\n",
    "\t\tra = raddeg(arctan2(y,x))\n",
    "\t\tdec = raddeg(arctan2(z,sqrt(x**2+y**2)))\n",
    "\t\trad = sqrt(x**2+y**2+z**2)\n",
    "\t\treturn (ra,dec,rad)\n",
    "\telif to is None:\n",
    "\t\traise Exception('You must specify the output coordinate system')\n",
    "\telse:\n",
    "\t\traise Exception('Unknown output coordinate system')\n",
    "\n",
    "\n",
    "def torect(ra,dec):\n",
    "\tx=numexpr.evaluate('cos(ra/57.295779513082323)*cos(dec/57.295779513082323)')\n",
    "\ty=numexpr.evaluate('sin(ra/57.295779513082323)*cos(dec/57.295779513082323)')\n",
    "\tz=numexpr.evaluate('sin(dec/57.295779513082323)')\n",
    "\treturn x,y,z\n",
    "\n",
    "def fromrect(x,y,z):\n",
    "\tra=numexpr.evaluate('arctan2(y,x)*57.295779513082323')\n",
    "\tdec=numexpr.evaluate('57.295779513082323*arctan2(z,sqrt(x**2+y**2))')\n",
    "\treturn ra,dec\n",
    "\n",
    "def sphere_rotate(ra, dec, rapol, decpol, ra0, revert=False):\n",
    "\t\"\"\" rotate ra,dec to a new spherical coordinate system where the pole is \n",
    "\t\tat rapol,decpol and the zeropoint is at ra=ra0 \n",
    "\t\trevert flag allows to reverse the transformation\n",
    "\t\"\"\"\n",
    "\n",
    "\tx,y,z=torect(ra,dec)\n",
    "\n",
    "\ttmppol=cv_coord(rapol,decpol,1,degr=True,fr='sph',to='rect') #pole axis\n",
    "\ttmpvec1=cv_coord(ra0,0,1,degr=True,fr='sph',to='rect') #x axis\n",
    "\ttmpvec1=numpy.array(tmpvec1)\n",
    "\n",
    "\ttmpvec1[2]=(-tmppol[0]*tmpvec1[0]-tmppol[1]*tmpvec1[1])/tmppol[2]\n",
    "\ttmpvec1/=numpy.sqrt((tmpvec1**2).sum())\n",
    "\ttmpvec2=numpy.cross(tmppol,tmpvec1) # y axis \n",
    "\n",
    "\tif not revert:\n",
    "\t\tAxx,Axy,Axz=tmpvec1\n",
    "\t\tAyx,Ayy,Ayz=tmpvec2\n",
    "\t\tAzx,Azy,Azz=tmppol\n",
    "\telse:\n",
    "\t\tAxx,Ayx,Azx=tmpvec1\n",
    "\t\tAxy,Ayy,Azy=tmpvec2\n",
    "\t\tAxz,Ayz,Azz=tmppol\n",
    "\txnew = numexpr.evaluate('x*Axx+y*Axy+z*Axz')\n",
    "\tynew = numexpr.evaluate('x*Ayx+y*Ayy+z*Ayz')\n",
    "\tznew = numexpr.evaluate('x*Azx+y*Azy+z*Azz')\n",
    "\t\n",
    "\tdel x,y,z\n",
    "\tnew_ra, new_dec = fromrect(xnew,ynew,znew)\n",
    "\treturn new_ra,new_dec\n",
    "\n"
   ]
  },
  {
   "cell_type": "code",
   "execution_count": 49,
   "metadata": {},
   "outputs": [],
   "source": [
    "#cluster list\n",
    "cluster_candidate= [\n",
    " 'Antlia2',\n",
    " 'Crater2',\n",
    " 'NGC1261',\n",
    " 'NGC1851',\n",
    " 'NGC1904',\n",
    " 'NGC3201',\n",
    " 'NGC4590',\n",
    " 'NGC6316',\n",
    " 'NGC7078',\n",
    " 'NGC7089',\n",
    " 'Pal13',\n",
    " 'Pal15',\n",
    " 'Pal5',\n",
    "]"
   ]
  },
  {
   "cell_type": "markdown",
   "metadata": {},
   "source": [
    "test for using astropy.match_coordinates"
   ]
  },
  {
   "cell_type": "code",
   "execution_count": 74,
   "metadata": {},
   "outputs": [
    {
     "ename": "TypeError",
     "evalue": "Cannot use .str.contains with values of inferred dtype 'bytes'.",
     "output_type": "error",
     "traceback": [
      "\u001b[1;31m---------------------------------------------------------------------------\u001b[0m",
      "\u001b[1;31mTypeError\u001b[0m                                 Traceback (most recent call last)",
      "\u001b[1;32m<ipython-input-74-1e453693c738>\u001b[0m in \u001b[0;36m<module>\u001b[1;34m\u001b[0m\n\u001b[0;32m      2\u001b[0m \u001b[1;33m\u001b[0m\u001b[0m\n\u001b[0;32m      3\u001b[0m \u001b[1;33m\u001b[0m\u001b[0m\n\u001b[1;32m----> 4\u001b[1;33m \u001b[0mfield\u001b[0m \u001b[1;33m=\u001b[0m \u001b[0mdf\u001b[0m\u001b[1;33m[\u001b[0m\u001b[0mdf\u001b[0m\u001b[1;33m[\u001b[0m\u001b[1;34m'object_name'\u001b[0m\u001b[1;33m]\u001b[0m\u001b[1;33m.\u001b[0m\u001b[0mstr\u001b[0m\u001b[1;33m.\u001b[0m\u001b[0mcontains\u001b[0m\u001b[1;33m(\u001b[0m\u001b[0mcluster_name\u001b[0m\u001b[1;33m)\u001b[0m\u001b[1;33m]\u001b[0m\u001b[1;33m\u001b[0m\u001b[1;33m\u001b[0m\u001b[0m\n\u001b[0m\u001b[0;32m      5\u001b[0m \u001b[1;33m\u001b[0m\u001b[0m\n\u001b[0;32m      6\u001b[0m \"\"\"\n",
      "\u001b[1;32mc:\\Users\\Yichengwang318\\anaconda3\\lib\\site-packages\\pandas\\core\\strings\\accessor.py\u001b[0m in \u001b[0;36mwrapper\u001b[1;34m(self, *args, **kwargs)\u001b[0m\n\u001b[0;32m     98\u001b[0m                     \u001b[1;34mf\"inferred dtype '{self._inferred_dtype}'.\"\u001b[0m\u001b[1;33m\u001b[0m\u001b[1;33m\u001b[0m\u001b[0m\n\u001b[0;32m     99\u001b[0m                 )\n\u001b[1;32m--> 100\u001b[1;33m                 \u001b[1;32mraise\u001b[0m \u001b[0mTypeError\u001b[0m\u001b[1;33m(\u001b[0m\u001b[0mmsg\u001b[0m\u001b[1;33m)\u001b[0m\u001b[1;33m\u001b[0m\u001b[1;33m\u001b[0m\u001b[0m\n\u001b[0m\u001b[0;32m    101\u001b[0m             \u001b[1;32mreturn\u001b[0m \u001b[0mfunc\u001b[0m\u001b[1;33m(\u001b[0m\u001b[0mself\u001b[0m\u001b[1;33m,\u001b[0m \u001b[1;33m*\u001b[0m\u001b[0margs\u001b[0m\u001b[1;33m,\u001b[0m \u001b[1;33m**\u001b[0m\u001b[0mkwargs\u001b[0m\u001b[1;33m)\u001b[0m\u001b[1;33m\u001b[0m\u001b[1;33m\u001b[0m\u001b[0m\n\u001b[0;32m    102\u001b[0m \u001b[1;33m\u001b[0m\u001b[0m\n",
      "\u001b[1;31mTypeError\u001b[0m: Cannot use .str.contains with values of inferred dtype 'bytes'."
     ]
    }
   ],
   "source": [
    "cluster_name = 'NGC1904'\n",
    "\n",
    "\n",
    "field = df[df['object_name'].str.contains(cluster_name)]\n",
    "\n",
    "\"\"\"\n",
    "streams = field[field['priority']>8].reset_index(drop=True)\n",
    "\n",
    "count_plots = 0\n",
    "if len(streams['ra'])>0:\n",
    "        \n",
    "    original_ra = np.array(streams['ra'])\n",
    "    original_dec = np.array(streams['dec'])\n",
    "\n",
    "c = SkyCoord(ra=original_ra*u.degree, dec = original_dec*u.degree)\n",
    "catalog = SkyCoord(ra=clusters[:,1] , dec=clusters[:,2] )\n",
    "idx = c.match_to_catalog_sky(c.frame,catalog.frame)\n",
    "\"\"\"\n"
   ]
  }
 ],
 "metadata": {
  "kernelspec": {
   "display_name": "Python 3.8.8 ('base')",
   "language": "python",
   "name": "python3"
  },
  "language_info": {
   "codemirror_mode": {
    "name": "ipython",
    "version": 3
   },
   "file_extension": ".py",
   "mimetype": "text/x-python",
   "name": "python",
   "nbconvert_exporter": "python",
   "pygments_lexer": "ipython3",
   "version": "3.8.8"
  },
  "orig_nbformat": 4,
  "vscode": {
   "interpreter": {
    "hash": "d882568f9b45c566479a28f49e0e3ee8648df50de18da6a4af68d559fcd7ea53"
   }
  }
 },
 "nbformat": 4,
 "nbformat_minor": 2
}
